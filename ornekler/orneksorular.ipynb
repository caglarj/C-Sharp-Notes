{
 "cells": [
  {
   "attachments": {},
   "cell_type": "markdown",
   "metadata": {},
   "source": [
    "# C# Programlama  Örnek Sorular Algoritmalar :\n",
    "\n"
   ]
  },
  {
   "attachments": {},
   "cell_type": "markdown",
   "metadata": {},
   "source": [
    "## Örnek 1 :\n",
    "\n",
    "İki sayının toplamını veren programın algoritmasını ve kodunu yazınız .\n",
    "\n",
    "\n",
    "```text\n",
    "Algoritma\n",
    "\n",
    "1. Başla\n",
    "2. a,b,c\n",
    "3. b,c gir\n",
    "4. a = b+c\n",
    "5. yazıdır a\n",
    "6. bitir\n",
    "``` \n"
   ]
  },
  {
   "cell_type": "code",
   "execution_count": 1,
   "metadata": {
    "dotnet_interactive": {
     "language": "csharp"
    },
    "polyglot_notebook": {
     "kernelName": "csharp"
    },
    "vscode": {
     "languageId": "polyglot-notebook"
    }
   },
   "outputs": [
    {
     "name": "stdout",
     "output_type": "stream",
     "text": [
      "1.Sayıyı Giriniz = "
     ]
    },
    {
     "ename": "Error",
     "evalue": "System.FormatException: The input string '' was not in a correct format.\r\n   at System.Number.ThrowOverflowOrFormatException(ParsingStatus status, ReadOnlySpan`1 value, TypeCode type)\r\n   at System.Convert.ToInt32(String value)\r\n   at Submission#2.<<Initialize>>d__0.MoveNext()\r\n--- End of stack trace from previous location ---\r\n   at Microsoft.CodeAnalysis.Scripting.ScriptExecutionState.RunSubmissionsAsync[TResult](ImmutableArray`1 precedingExecutors, Func`2 currentExecutor, StrongBox`1 exceptionHolderOpt, Func`2 catchExceptionOpt, CancellationToken cancellationToken)",
     "output_type": "error",
     "traceback": [
      "System.FormatException: The input string '' was not in a correct format.\r\n",
      "   at System.Number.ThrowOverflowOrFormatException(ParsingStatus status, ReadOnlySpan`1 value, TypeCode type)\r\n",
      "   at System.Convert.ToInt32(String value)\r\n",
      "   at Submission#2.<<Initialize>>d__0.MoveNext()\r\n",
      "--- End of stack trace from previous location ---\r\n",
      "   at Microsoft.CodeAnalysis.Scripting.ScriptExecutionState.RunSubmissionsAsync[TResult](ImmutableArray`1 precedingExecutors, Func`2 currentExecutor, StrongBox`1 exceptionHolderOpt, Func`2 catchExceptionOpt, CancellationToken cancellationToken)"
     ]
    }
   ],
   "source": [
    "\n",
    " int a, b, c;\n",
    " Console.Write(\"1.Sayıyı Giriniz = \");\n",
    " b = Convert.ToInt32(Console.ReadLine());\n",
    " Console.Write(\"2.Sayıyı Giriniz = \");\n",
    " c = Convert.ToInt32(Console.ReadLine());\n",
    " a = b + c;\n",
    " Console.Write(\"Toplam = \" + a);\n",
    " Console.ReadLine();\n"
   ]
  },
  {
   "cell_type": "code",
   "execution_count": 14,
   "metadata": {
    "dotnet_interactive": {
     "language": "csharp"
    },
    "polyglot_notebook": {
     "kernelName": "csharp"
    },
    "vscode": {
     "languageId": "polyglot-notebook"
    }
   },
   "outputs": [
    {
     "name": "stdout",
     "output_type": "stream",
     "text": [
      "2,8\r\n"
     ]
    }
   ],
   "source": [
    "double x = 2.8D;\n",
    "Console.WriteLine(x);\n"
   ]
  },
  {
   "cell_type": "code",
   "execution_count": 19,
   "metadata": {
    "dotnet_interactive": {
     "language": "csharp"
    },
    "polyglot_notebook": {
     "kernelName": "csharp"
    },
    "vscode": {
     "languageId": "polyglot-notebook"
    }
   },
   "outputs": [
    {
     "name": "stdout",
     "output_type": "stream",
     "text": [
      "sonuc : 100  \r\n"
     ]
    }
   ],
   "source": [
    "long sonuc = 0;\n",
    "int sayi = 45 + 5;\n",
    "if (sayi >40 ){\n",
    "    sonuc = sayi *2;\n",
    "}else{\n",
    "    sonuc = sayi * 3;\n",
    "}\n",
    "Console.WriteLine(\"sonuc : {0}  \", sonuc)"
   ]
  }
 ],
 "metadata": {
  "language_info": {
   "name": "python"
  },
  "orig_nbformat": 4
 },
 "nbformat": 4,
 "nbformat_minor": 2
}
